{
 "cells": [
  {
   "cell_type": "code",
   "execution_count": null,
   "metadata": {
    "collapsed": false,
    "scrolled": true
   },
   "outputs": [
    {
     "name": "stdout",
     "output_type": "stream",
     "text": [
      "\n",
      "---- RRD params ----\n",
      "end_point  = 1420800000\n",
      "list_ds  = ['tps', 'iowait', 'ctps', 'wtps']\n",
      "start_point  = 1419000000\n",
      "type_command  = AVERAGE\n",
      "folder  = /home/nk16/rrd/oraci2/\n",
      "width  = 1024\n",
      "file_name  = 1feacfb555aec399cc81c9f74bacd3c1.rrd\n",
      "file  = /home/nk16/rrd/oraci2/1feacfb555aec399cc81c9f74bacd3c1.rrd\n",
      "height  = 800\n"
     ]
    }
   ],
   "source": [
    "from CorrelationMatrix import CorrelationMatrix\n",
    "# from CorrelationGraph import CorrelationGraph\n",
    "from Menu import Menu\n",
    "from RRD import RRD\n",
    "\n",
    "rrd = RRD(folder=\"/home/nk16/rrd/oraci2/\",\n",
    "          file_name=\"1feacfb555aec399cc81c9f74bacd3c1.rrd\",\n",
    "          start_point=\"1419000000\",\n",
    "          end_point=\"1420800000\",\n",
    "          type_command=\"AVERAGE\",\n",
    "          height=800,\n",
    "          width=1024\n",
    "          )\n",
    "corr_matrix = CorrelationMatrix(rrd=rrd)\n",
    "# corr_graph = CorrelationGraph(rrd=rrd)\n",
    "menu = Menu(description=\"RRD tools.\", rrd=rrd)\n",
    "\n",
    "rrd.display_attr()\n",
    "corr_matrix.display_matrix()\n"
   ]
  },
  {
   "cell_type": "code",
   "execution_count": null,
   "metadata": {
    "collapsed": true
   },
   "outputs": [],
   "source": []
  }
 ],
 "metadata": {
  "kernelspec": {
   "display_name": "Python 3",
   "language": "python",
   "name": "python3"
  },
  "language_info": {
   "codemirror_mode": {
    "name": "ipython",
    "version": 3
   },
   "file_extension": ".py",
   "mimetype": "text/x-python",
   "name": "python",
   "nbconvert_exporter": "python",
   "pygments_lexer": "ipython3",
   "version": "3.5.6"
  }
 },
 "nbformat": 4,
 "nbformat_minor": 2
}
