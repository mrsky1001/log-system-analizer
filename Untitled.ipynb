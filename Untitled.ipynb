{
 "cells": [
  {
   "cell_type": "code",
   "execution_count": null,
   "metadata": {
    "collapsed": false,
    "scrolled": true
   },
   "outputs": [],
   "source": [
    "from CorrelationMatrix import CorrelationMatrix\n",
    "# from CorrelationGraph import CorrelationGraph\n",
    "from Menu import Menu\n",
    "from RRD import RRD\n",
    "from RRDFactory import RRDFactory\n",
    "\n",
    "# rrd = RRD(folder=\"/home/nk16/rrd/oraci2\",\n",
    "#           file_name=\"1feacfb555aec399cc81c9f74bacd3c1.rrd\",\n",
    "#           start_point=\"1419000000\",\n",
    "#           end_point=\"1420800000\",\n",
    "#           type_command=\"AVERAGE\",\n",
    "#           height=800,\n",
    "#           width=1024\n",
    "#           )\n",
    "\n",
    "rrd_factory = RRDFactory(folder=\"rrd/\",\n",
    "                         start_point=\"1419000000\",\n",
    "                         end_point=\"now\",\n",
    "                         type_command=\"AVERAGE\",\n",
    "                         height=800,\n",
    "                         width=1024)\n",
    "\n",
    "rrd_factory.display_menu()"
   ]
  },
  {
   "cell_type": "code",
   "execution_count": null,
   "metadata": {
    "collapsed": true
   },
   "outputs": [],
   "source": []
  }
 ],
 "metadata": {
  "kernelspec": {
   "display_name": "Python 3",
   "language": "python",
   "name": "python3"
  },
  "language_info": {
   "codemirror_mode": {
    "name": "ipython",
    "version": 2
   },
   "file_extension": ".py",
   "mimetype": "text/x-python",
   "name": "python",
   "nbconvert_exporter": "python",
   "pygments_lexer": "ipython2",
   "version": "2.7.15"
  }
 },
 "nbformat": 4,
 "nbformat_minor": 2
}
